{
 "cells": [
  {
   "cell_type": "code",
   "execution_count": 3,
   "id": "c017b218",
   "metadata": {},
   "outputs": [],
   "source": [
    "import galois\n",
    "\n",
    "import numpy as np\n",
    "import math\n",
    "import Cryptodome as Crypto\n",
    "from Cryptodome.Hash import SHA512"
   ]
  },
  {
   "cell_type": "code",
   "execution_count": 2,
   "id": "2aeef47a",
   "metadata": {},
   "outputs": [],
   "source": [
    "class curve():\n",
    "    def __init__(self, param):\n",
    "        if (param == 163):\n",
    "            self.curve_163()\n",
    "        elif (param == 179):\n",
    "            self.curve_179()\n",
    "        else:\n",
    "            print(\"error: curve was not created\")\n",
    "        \n",
    "        GF = self.GF\n",
    "        \n",
    "        self.sk, self.Q = self.keygen()\n",
    "        #if (param == 163):\n",
    "        #    self.Q = (GF(9367128107881921444512701623009555219779675840028),\n",
    "        #              GF(3024508227664414051163668185519433797426792498520) )\n",
    "        while True:\n",
    "            Fe, e = self.pre_signature()\n",
    "            self.D, self.L = self.signature(self.iH, 512, e, Fe, 1337)\n",
    "            if (self.check_signature(self.D, self.L, self.Q)==True):\n",
    "                break\n",
    "            self.sk, self.Q = self.keygen()\n",
    "        \n",
    "            \n",
    "    def htr(self, x):\n",
    "        t = x\n",
    "        for i in range(int((self.m-1)/2)):\n",
    "            t = (t**4) + x\n",
    "        return t\n",
    "    \n",
    "    def tr(self, x):\n",
    "        t = x\n",
    "        for i in range((self.m-1)):\n",
    "            t = (t**2) + x\n",
    "        return t\n",
    "    \n",
    "    def keygen(self):\n",
    "        sk = Crypto.Random.random.randint(1, self.n)\n",
    "        npk = eleptic_curve_multiplication(self.P, sk, self.A, self.B)\n",
    "        pk = (npk[0], npk[1]+npk[0])\n",
    "        return sk, pk\n",
    "    \n",
    "    def check_private_key(self):\n",
    "        Q_ = eleptic_curve_multiplication(self.P, self.sk, self.A, self.B)\n",
    "        pk = (Q_[0], Q_[1]+Q_[0])\n",
    "        if (pk == self.Q):\n",
    "            return True\n",
    "        return False\n",
    "    \n",
    "    def check_public_key(self, Q):  #check\n",
    "        if (Q == (self.GF(0), self.GF(0))):\n",
    "            return False\n",
    "        if (check_point(self.GF, self.A, self.B, self.m, Q) == False):\n",
    "            return False\n",
    "        check = eleptic_curve_multiplication(Q, self.n, self.A, self.B)\n",
    "        if (check == (self.GF(0), self.GF(0))):\n",
    "            return True\n",
    "        return False\n",
    "    \n",
    "    def pre_signature(self):\n",
    "        while True:\n",
    "            e = Crypto.Random.random.randint(0, self.n)\n",
    "            R = eleptic_curve_multiplication(self.P, e, self.A, self.B)\n",
    "            if (R[0] != self.GF(0)):\n",
    "                break\n",
    "        return R[0], e\n",
    "    \n",
    "    def base_point(self):\n",
    "        while True:\n",
    "            P = random_point(self.GF, self.A, self.B, self.m)\n",
    "            R = eleptic_curve_multiplication(self.P, self.n, self.A, self.B)\n",
    "            if (R == (self.GF(0), self.GF(0))):\n",
    "                break\n",
    "        return P\n",
    "    \n",
    "    def signature(self, iH, Ld, e, Fe, T):\n",
    "        if (Ld%16 != 0):\n",
    "            return \"Error\"\n",
    "        if (Ld < 2*len(bin(self.n)[2:])):\n",
    "            return \"Error\"\n",
    "        H_t = self.hash_f(iH, bytes(T))\n",
    "        h = hash_to_GF(self.GF, self.m, H_t)\n",
    "        y = h*Fe\n",
    "        r = int(y) % self.n\n",
    "        s = (e+ self.sk*r)%self.n\n",
    "        D = pair_to_signature(Ld, r, s)\n",
    "        return ((iH, T, D), (len(bin(iH)[2:])+len(bin(T)[2:])+Ld))\n",
    "    \n",
    "    def check_signature(self, signature, L, Q):\n",
    "        if (signature[0] != self.iH): \n",
    "            return \"Error\"\n",
    "        if (self.check_public_key(Q) == False):\n",
    "            return \"Error\"\n",
    "        if ((L - len(signature[2]) - len(bin(self.iH)[2:])) <= 0):\n",
    "            return \"Error\"\n",
    "        r, s = signature_to_pair(len(signature[2]), signature[2])\n",
    "        R = eleptic_curve_addition(eleptic_curve_multiplication(self.P, s, self.A, self.B), eleptic_curve_multiplication(Q, r, self.A, self.B), self.A, self.B)\n",
    "        H_t = self.hash_f(signature[0], bytes(signature[1]))\n",
    "        h = hash_to_GF(self.GF, self.m, H_t)\n",
    "        r_ = int(h*R[0])%(self.n)\n",
    "        if(r == r_):\n",
    "            return True\n",
    "        else:\n",
    "            return \"Error\"\n",
    "        \n",
    "    def hash_f(self, iH, input_byte_string):\n",
    "        if (iH == 1):\n",
    "            return SHA3_512(input_byte_string)\n",
    "        else:\n",
    "            print(\"Error: wrong hash ID\")\n",
    "            return \"Error\"\n",
    "    \n",
    "    def curve_163(self):\n",
    "        self.GF = galois.GF(2**163, repr = \"poly\")\n",
    "        self.A = self.GF(1)\n",
    "        self.B = self.GF(0x5FF6108462A2DC8210AB403925E638A19C1455D21)\n",
    "        self.n = 0x400000000000000000002BEC12BE2262D39BCF14D\n",
    "        self.m = 163\n",
    "        self.P = (self.GF(0x2E2F85F5DD74CE983A5C4237229DAF8A3F35823BE), self.GF(0x3826F008A8C51D7B95284D9D03FF0E00CE2CD723A))\n",
    "        self.iH = 1\n",
    "        \n",
    "    def curve_179(self):\n",
    "        self.GF = galois.GF(2**179, repr = \"poly\")\n",
    "        self.A = self.GF(1)\n",
    "        self.B = self.GF(0x4A6E0856526436F2F88DD07A341E32D04184572BEB710)\n",
    "        self.n = 0x3FFFFFFFFFFFFFFFFFFFFFFB981960435FE5AB64236EF\n",
    "        self.m = 179\n",
    "        self.P = base_point(self.GF, self.A, self.B, self.n, self.m)\n",
    "        self.iH = 1\n",
    "        \n",
    "    def create_signature(self, T)\n",
    "        while True:\n",
    "            Fe, e = self.pre_signature()\n",
    "            D, L = self.signature(self.iH, 512, e, Fe, 1337)\n",
    "            if (self.check_signature(self.D, self.L, self.Q)==True):\n",
    "                break\n",
    "        return D, L"
   ]
  },
  {
   "cell_type": "code",
   "execution_count": 4,
   "id": "6193a385",
   "metadata": {},
   "outputs": [],
   "source": [
    "param = 163\n",
    "m = param\n",
    "GF = galois.GF(2**param, repr = \"poly\")\n",
    "T = 1337"
   ]
  },
  {
   "cell_type": "code",
   "execution_count": 19,
   "id": "7c453c2a",
   "metadata": {
    "scrolled": false
   },
   "outputs": [],
   "source": [
    "c = curve(param)"
   ]
  },
  {
   "cell_type": "code",
   "execution_count": 51,
   "id": "eba6e1f2",
   "metadata": {},
   "outputs": [
    {
     "name": "stdout",
     "output_type": "stream",
     "text": [
      "True\n",
      "True\n"
     ]
    }
   ],
   "source": [
    "print(c.check_public_key(c.Q))\n",
    "print(c.check_private_key())"
   ]
  },
  {
   "cell_type": "code",
   "execution_count": 20,
   "id": "25bed601",
   "metadata": {
    "scrolled": true
   },
   "outputs": [
    {
     "data": {
      "text/plain": [
       "True"
      ]
     },
     "execution_count": 20,
     "metadata": {},
     "output_type": "execute_result"
    }
   ],
   "source": [
    "c.check_signature(c.D, c.L, c.Q)"
   ]
  },
  {
   "cell_type": "code",
   "execution_count": 6,
   "id": "6fe798df",
   "metadata": {},
   "outputs": [],
   "source": [
    "def check_point(GF, A, B, m, P):\n",
    "    if ((P[1]*P[1] + P[0]*P[1])==(P[0]**3 + A*(P[0]**2) + B)):\n",
    "        return True\n",
    "    return False"
   ]
  },
  {
   "cell_type": "code",
   "execution_count": 7,
   "id": "d31af910",
   "metadata": {},
   "outputs": [],
   "source": [
    "def SHA3_512(input_byte_string):\n",
    "    hash_f = SHA512.new(truncate=\"256\")\n",
    "    hash_f.update(input_byte_string)\n",
    "    output_byte_string = hash_f.digest()\n",
    "    return output_byte_string"
   ]
  },
  {
   "cell_type": "code",
   "execution_count": 8,
   "id": "cb21b5cb",
   "metadata": {},
   "outputs": [],
   "source": [
    "def eleptic_curve_addition(P, Q, A, B):\n",
    "    if (P==Q):\n",
    "        if(P[0] == GF(0)):\n",
    "            return ((GF(0),GF(0)))\n",
    "        t = P[1] * (P[0]**(-1)) + P[0]\n",
    "        Rx = t*t + t + A\n",
    "        Ry = P[0]*P[0] + t*Rx + Rx\n",
    "    elif ((P[0]==Q[0]) and (P[1] == (Q[1] + Q[0]))):\n",
    "        return ((GF(0),GF(0)))    \n",
    "    else:\n",
    "        Rx = ((P[1] + Q[1])*((P[0] + Q[0])**(-1)))**2 + (P[1] + Q[1])*((P[0] + Q[0])**(-1)) + P[0] + Q[0] + A\n",
    "        Ry = ((P[1] + Q[1])*((P[0] + Q[0])**(-1)))*(P[0] + Rx) + Rx + P[1]\n",
    "    R = (Rx, Ry)\n",
    "    if (check_point(GF, A, B, m, R)==False):\n",
    "        return ((GF(0),GF(0)))    \n",
    "    return R"
   ]
  },
  {
   "cell_type": "code",
   "execution_count": 9,
   "id": "ea256fb4",
   "metadata": {},
   "outputs": [],
   "source": [
    "def eleptic_curve_multiplication(P, n, A, B):\n",
    "    k = bin(n)[2:]\n",
    "    Q = P\n",
    "    if (Q == (GF(0), GF(0))):\n",
    "        return Q\n",
    "    #k = k[::-1]\n",
    "    k = k[1:]\n",
    "    for i in k:\n",
    "        Q = eleptic_curve_addition(Q, Q, A, B)\n",
    "        #if (Q == (GF(0), GF(0))):\n",
    "            #return Q\n",
    "        if(i == '1'):\n",
    "            Q = eleptic_curve_addition(Q, P, A, B)\n",
    "            #if (Q == (GF(0), GF(0))):\n",
    "                #return Q\n",
    "    return Q\n"
   ]
  },
  {
   "cell_type": "code",
   "execution_count": 10,
   "id": "3f59e2a6",
   "metadata": {},
   "outputs": [],
   "source": [
    "def generate_random_element(GF):\n",
    "    return GF.Random()"
   ]
  },
  {
   "cell_type": "code",
   "execution_count": 11,
   "id": "45389465",
   "metadata": {},
   "outputs": [],
   "source": [
    "def htr(x):\n",
    "    t = x\n",
    "    for i in range(int((m-1)/2)):\n",
    "        t = (t**4) + x\n",
    "    return t"
   ]
  },
  {
   "cell_type": "code",
   "execution_count": 12,
   "id": "0f20d6c8",
   "metadata": {},
   "outputs": [],
   "source": [
    "def tr(x):\n",
    "    t = x\n",
    "    for i in range((m-1)):\n",
    "        t = (t**2) + x\n",
    "    return t"
   ]
  },
  {
   "cell_type": "code",
   "execution_count": null,
   "id": "28e9369a",
   "metadata": {
    "scrolled": true
   },
   "outputs": [],
   "source": []
  },
  {
   "cell_type": "code",
   "execution_count": 13,
   "id": "f2860b5f",
   "metadata": {},
   "outputs": [],
   "source": [
    "def check_square(GF, m, u, w):\n",
    "    if (u == 0):\n",
    "        return 1, w ** (2**(m-1))\n",
    "    if (w == 0):\n",
    "        return 2, GF(0)\n",
    "    \n",
    "    v = w*(u ** (-2))\n",
    "    if (tr(v) == 1):\n",
    "        return 0, GF(0)\n",
    "    t = htr(v)\n",
    "    return 2, t*u"
   ]
  },
  {
   "cell_type": "code",
   "execution_count": 14,
   "id": "f94f18ad",
   "metadata": {},
   "outputs": [],
   "source": [
    "def random_point(GF, A, B, m):\n",
    "    while True:\n",
    "        u = generate_random_element(GF)\n",
    "        w = u**3 + A*(u**2) + B\n",
    "        temp, z = check_square(GF, m, u, w)\n",
    "        if(temp != 0):\n",
    "            break\n",
    "    return((u, z)) "
   ]
  },
  {
   "cell_type": "code",
   "execution_count": 15,
   "id": "75c4b331",
   "metadata": {},
   "outputs": [],
   "source": [
    "def hash_to_GF(GF, m, hash_string):\n",
    "    bitstring = byte_to_bit(hash_string)[:m]\n",
    "    \n",
    "    return(GF(int(bitstring, 2)))"
   ]
  },
  {
   "cell_type": "code",
   "execution_count": 16,
   "id": "b7f5de22",
   "metadata": {},
   "outputs": [],
   "source": [
    "def pair_to_signature(Ld, r, s):\n",
    "    R = \"\"\n",
    "    S = \"\"\n",
    "    O = \"0\"*Ld\n",
    "    l = int(Ld/2)\n",
    "    R += bin(r)[2:]\n",
    "    R += O[:(l - len(R))]\n",
    "    S += bin(s)[2:]\n",
    "    S += O[:(l - len(S))]\n",
    "    D = S + R\n",
    "    return D"
   ]
  },
  {
   "cell_type": "code",
   "execution_count": 17,
   "id": "b834421d",
   "metadata": {},
   "outputs": [],
   "source": [
    "def signature_to_pair(Ld, D):\n",
    "    r_bit = \"\"\n",
    "    s_bit = \"\"\n",
    "    O = \"0\"*Ld\n",
    "    l = int(Ld/2)\n",
    "    r_bit += D[l:]\n",
    "    s_bit += D[:l]\n",
    "    r = int(r_bit[:r_bit.rfind('1')+1], 2)\n",
    "    s = int(s_bit[:s_bit.rfind('1')+1], 2)\n",
    "    return r, s"
   ]
  },
  {
   "cell_type": "code",
   "execution_count": 18,
   "id": "3ab21f53",
   "metadata": {},
   "outputs": [],
   "source": [
    "def byte_to_bit(data):\n",
    "    data_bit = \"\"\n",
    "    for i in data:\n",
    "        data_bit += '{0:08b}'.format(i)\n",
    "    return (data_bit)"
   ]
  },
  {
   "cell_type": "code",
   "execution_count": null,
   "id": "7e27ba29",
   "metadata": {},
   "outputs": [],
   "source": []
  },
  {
   "cell_type": "code",
   "execution_count": null,
   "id": "50b5e2f5",
   "metadata": {},
   "outputs": [],
   "source": []
  },
  {
   "cell_type": "code",
   "execution_count": null,
   "id": "54e3ac3c",
   "metadata": {},
   "outputs": [],
   "source": []
  }
 ],
 "metadata": {
  "kernelspec": {
   "display_name": "Python 3 (ipykernel)",
   "language": "python",
   "name": "python3"
  },
  "language_info": {
   "codemirror_mode": {
    "name": "ipython",
    "version": 3
   },
   "file_extension": ".py",
   "mimetype": "text/x-python",
   "name": "python",
   "nbconvert_exporter": "python",
   "pygments_lexer": "ipython3",
   "version": "3.9.12"
  }
 },
 "nbformat": 4,
 "nbformat_minor": 5
}
