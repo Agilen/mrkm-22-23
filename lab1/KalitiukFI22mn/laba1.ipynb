{
 "cells": [
  {
   "cell_type": "code",
   "execution_count": 11,
   "id": "73b20222",
   "metadata": {},
   "outputs": [],
   "source": [
    "import gmpy2\n",
    "from gmpy2 import xmpz\n",
    "from gmpy2 import mpz\n",
    "import math"
   ]
  },
  {
   "cell_type": "markdown",
   "id": "51b49b82",
   "metadata": {},
   "source": [
    "Як працює тип даних xmpz:"
   ]
  },
  {
   "cell_type": "code",
   "execution_count": 12,
   "id": "3f3c97a6",
   "metadata": {},
   "outputs": [
    {
     "data": {
      "text/plain": [
       "(xmpz(23), xmpz(23))"
      ]
     },
     "execution_count": 12,
     "metadata": {},
     "output_type": "execute_result"
    }
   ],
   "source": [
    "a = xmpz(22)\n",
    "b = a\n",
    "a += 1\n",
    "a, b"
   ]
  },
  {
   "cell_type": "markdown",
   "id": "15899a2a",
   "metadata": {},
   "source": [
    "числа довжини 512 біт:"
   ]
  },
  {
   "cell_type": "code",
   "execution_count": 13,
   "id": "8c02b03e",
   "metadata": {},
   "outputs": [],
   "source": [
    "A = 0x7723A9B9AFFCFCACFEF4537D2C587BA1E07EC2A27B9C907261F6461044DE2FEC26DA9BACDAC77063244D575EE788BB1145D7D09A94EC4B59859669CF8D86F454\n",
    "B = 0xCE22515AE64F0FB5E6E33EF5D0D74AFE107BE2A91150D38A3AFCBC7608774631B56F41CDDD8A7D6A6C4170A4D17185E5C7578A27C2BD5816A62CD6D3E1E9266E\n",
    "N = 0x38CDD88155E5E68A2B66FC28861FB57657E27A1D41D3E61730FAB712FB0E55728443D1A18C27DE41A5C3CAAFE43DE9484F48D282F29F8505F4BDF734D492B484"
   ]
  },
  {
   "cell_type": "markdown",
   "id": "c3827d92",
   "metadata": {},
   "source": [
    "числа довжини 1024 біт:"
   ]
  },
  {
   "cell_type": "code",
   "execution_count": 14,
   "id": "a3b4db09",
   "metadata": {},
   "outputs": [],
   "source": [
    "A = 0xD4D2110984907B5625309D956521BAB4157B8B1ECE04043249A3D379AC112E5B9AF44E721E148D88A942744CF56A06B92D28A0DB950FE4CED2B41A0BD38BCE7D0BE1055CF5DE38F2A588C2C9A79A75011058C320A7B661C6CE1C36C7D870758307E5D2CF07D9B6E8D529779B6B2910DD17B6766A7EFEE215A98CAC300F2827DB\n",
    "B = 0x3A7EF2554E8940FA9B93B2A5E822CC7BB262F4A14159E4318CAE3ABF5AEB1022EC6D01DEFAB48B528868679D649B445A753684C13F6C3ADBAB059D635A2882090FC166EA9F0AAACD16A062149E4A0952F7FAAB14A0E9D3CB0BE9200DBD3B0342496421826919148E617AF1DB66978B1FCD28F8408506B79979CCBCC7F7E5FDE7\n",
    "N = 0x269D7722EA018F2AC35C5A3517AA06EAA1949059AE8240428BBFD0A8BE6E2EBF91223991F80D7413D6B2EB213E7122710EDEC617460FA0191F3901604619972018EBEF22D81AED9C56424014CADCC2CCDEE67D36A54BFC500230CA6693ABA057B374746622341ED6D52FE5A79E6860F54F197791B3FEF49FD534CB2C675B6BDB"
   ]
  },
  {
   "cell_type": "markdown",
   "id": "cbf07f7e",
   "metadata": {},
   "source": [
    "числа довжини 2048 біт:"
   ]
  },
  {
   "cell_type": "code",
   "execution_count": 15,
   "id": "bb7bb8e5",
   "metadata": {},
   "outputs": [],
   "source": [
    "A = 0x87D6D58D3991D536544389CEFA72FD0EBED75B2EBDC2C79BC3717793108F0952011E7E2D7040FFFB32F10BEB8ED0A485026B6860020B230128A8222B0525A6888942FB01C537800BF25D6F021D4B99D3CBD6DF9055FA22F91A6CFC4FDFC408AEF78F6418D3CE4E20EC7888B61BAE3D73C27C257CCA905DE0353C3A7CFFD9FE15170076B15F9575D21DE39D5C429799BBCDDB867016DE2248E3CFDE73A4D70C8636A9E41ABE671E7B9FB4739A5FF64DF9D0D3A64E0C9B20BFE58F1C62B28477EE9FD202010BAC440ADF3CA016A32DB844F23DEC2AB93AE869A6262FC23C5CE419807CDBA930A5433884E3B34B22477289BD3A7712CDD4B4110BD9887E7428FDF7\n",
    "B = 0x791EDB102DA183759979CEF70E1405AF14B98CD44357EADF6A8E35E49F99BB56CBD3F68897D6E05502ED1DE14EC46D04F96992C2D129737987E84E62371648B37633794016852A8CBFFCFDE06B17EC216AE8914D59E677A15A90361A594F0D1524A41AE63C59D343D4E522646722B0292DD7C85571AC9A84FDA6CD2D8DE307F69D1C2D6E1591932F73C2F499C4E0A2E252DE828CDA7842CE0972C4101FE772B56C45C475EDDEDAEC2DBD13E375E02D2C149B69AB51FF3F94533CA34A815484EC86DACE936BDC62B5F3F9EB6F5BE6BD253E256181D35D7D63EE24459824D462C53676E3DFF98700415ADA65FDA7CBD3B3F359C817F52BEDA70C9DD85F68473C6\n",
    "N = 0xFAAE2DBD9EECEE161154B081A68CB675BFC633DF8811446F22C2AB317B4F76CFFC36AF3078C795EBB23EEB59DEA12EA2E2E7F05426B9FA209A9EF21DFBB4111A49F75684193CF705FE0B1E4A96E88733981ECE3AABEC42506A92B199681392882EF5180A5EF518373DA17D712E9BF3936FBCAB1AF13BB215DA73B29B80D36DCAA4A28E711996BE9ED7B976871E170770E6B4D48DBCE916AC3D978D2146873AF4DA92CF8D023404EA5D78087C31933D8F2AF0BBE7AB619A5A07AEDBD2E3D582C05826B11F143BD80B64007F8E407DF0F1B9A7678846E0CDD1912B7DFBFBFCB1B9FFF0E54E73FA4248B24771789D2F11885F456545B9ED8C90F925F38B620677DC"
   ]
  },
  {
   "cell_type": "code",
   "execution_count": 16,
   "id": "9f56b1b6",
   "metadata": {},
   "outputs": [],
   "source": [
    "A_m = mpz(A)\n",
    "B_m = mpz(B)\n",
    "N_m = mpz(N)"
   ]
  },
  {
   "cell_type": "markdown",
   "id": "819c7f99",
   "metadata": {},
   "source": [
    "#### Додавання:"
   ]
  },
  {
   "cell_type": "code",
   "execution_count": 17,
   "id": "9b776de7",
   "metadata": {},
   "outputs": [
    {
     "name": "stdout",
     "output_type": "stream",
     "text": [
      "244 ns ± 18.9 ns per loop (mean ± std. dev. of 7 runs, 1,000,000 loops each)\n"
     ]
    }
   ],
   "source": [
    "%timeit A + B"
   ]
  },
  {
   "cell_type": "code",
   "execution_count": 18,
   "id": "e14412ef",
   "metadata": {
    "scrolled": true
   },
   "outputs": [
    {
     "name": "stdout",
     "output_type": "stream",
     "text": [
      "325 ns ± 18.4 ns per loop (mean ± std. dev. of 7 runs, 1,000,000 loops each)\n"
     ]
    }
   ],
   "source": [
    "%timeit gmpy2.add(A_m, B_m)"
   ]
  },
  {
   "cell_type": "markdown",
   "id": "142363a5",
   "metadata": {},
   "source": [
    "#### Віднімання:"
   ]
  },
  {
   "cell_type": "code",
   "execution_count": 19,
   "id": "233c315c",
   "metadata": {},
   "outputs": [
    {
     "name": "stdout",
     "output_type": "stream",
     "text": [
      "297 ns ± 40.8 ns per loop (mean ± std. dev. of 7 runs, 1,000,000 loops each)\n"
     ]
    }
   ],
   "source": [
    "%timeit A - B"
   ]
  },
  {
   "cell_type": "code",
   "execution_count": 20,
   "id": "7ab838a6",
   "metadata": {},
   "outputs": [
    {
     "name": "stdout",
     "output_type": "stream",
     "text": [
      "351 ns ± 30.7 ns per loop (mean ± std. dev. of 7 runs, 1,000,000 loops each)\n"
     ]
    }
   ],
   "source": [
    "%timeit gmpy2.sub(A_m, B_m)"
   ]
  },
  {
   "cell_type": "markdown",
   "id": "ce20eb5c",
   "metadata": {},
   "source": [
    "#### Множення:"
   ]
  },
  {
   "cell_type": "code",
   "execution_count": 21,
   "id": "dc72cadf",
   "metadata": {},
   "outputs": [
    {
     "name": "stdout",
     "output_type": "stream",
     "text": [
      "12.2 µs ± 127 ns per loop (mean ± std. dev. of 7 runs, 100,000 loops each)\n"
     ]
    }
   ],
   "source": [
    "%timeit A*B"
   ]
  },
  {
   "cell_type": "code",
   "execution_count": 22,
   "id": "195730dc",
   "metadata": {
    "scrolled": true
   },
   "outputs": [
    {
     "name": "stdout",
     "output_type": "stream",
     "text": [
      "1.89 µs ± 183 ns per loop (mean ± std. dev. of 7 runs, 1,000,000 loops each)\n"
     ]
    }
   ],
   "source": [
    "%timeit gmpy2.mul(A_m, B_m)"
   ]
  },
  {
   "cell_type": "markdown",
   "id": "adf2c197",
   "metadata": {},
   "source": [
    "#### Модулярне множення:"
   ]
  },
  {
   "cell_type": "code",
   "execution_count": 23,
   "id": "a1b33aec",
   "metadata": {},
   "outputs": [
    {
     "name": "stdout",
     "output_type": "stream",
     "text": [
      "28.7 µs ± 359 ns per loop (mean ± std. dev. of 7 runs, 10,000 loops each)\n"
     ]
    }
   ],
   "source": [
    "%timeit A*B%N"
   ]
  },
  {
   "cell_type": "code",
   "execution_count": 24,
   "id": "47fda8d1",
   "metadata": {
    "scrolled": true
   },
   "outputs": [
    {
     "name": "stdout",
     "output_type": "stream",
     "text": [
      "4.48 µs ± 71.6 ns per loop (mean ± std. dev. of 7 runs, 100,000 loops each)\n"
     ]
    }
   ],
   "source": [
    "%timeit gmpy2.f_mod(gmpy2.mul(A_m, B_m), N_m)"
   ]
  },
  {
   "cell_type": "markdown",
   "id": "86860395",
   "metadata": {},
   "source": [
    "#### Піднесення до квадрату за модулем:"
   ]
  },
  {
   "cell_type": "code",
   "execution_count": 25,
   "id": "4f16e317",
   "metadata": {},
   "outputs": [
    {
     "name": "stdout",
     "output_type": "stream",
     "text": [
      "25.2 µs ± 408 ns per loop (mean ± std. dev. of 7 runs, 10,000 loops each)\n"
     ]
    }
   ],
   "source": [
    "%timeit A**2%N"
   ]
  },
  {
   "cell_type": "code",
   "execution_count": 26,
   "id": "18f1568e",
   "metadata": {},
   "outputs": [
    {
     "name": "stdout",
     "output_type": "stream",
     "text": [
      "10.8 µs ± 382 ns per loop (mean ± std. dev. of 7 runs, 100,000 loops each)\n"
     ]
    }
   ],
   "source": [
    "%timeit gmpy2.powmod(A_m, 2, N_m)"
   ]
  },
  {
   "cell_type": "markdown",
   "id": "db6724ab",
   "metadata": {},
   "source": [
    "#### Піднесення до великого степеню за модулем:"
   ]
  },
  {
   "cell_type": "code",
   "execution_count": 27,
   "id": "77a03153",
   "metadata": {},
   "outputs": [],
   "source": [
    "#%timeit A**B%N"
   ]
  },
  {
   "cell_type": "code",
   "execution_count": 28,
   "id": "b5d520cc",
   "metadata": {},
   "outputs": [
    {
     "name": "stdout",
     "output_type": "stream",
     "text": [
      "6.7 ms ± 563 µs per loop (mean ± std. dev. of 7 runs, 100 loops each)\n"
     ]
    }
   ],
   "source": [
    "%timeit gmpy2.powmod(A_m, B_m, N_m)"
   ]
  },
  {
   "cell_type": "markdown",
   "id": "3ffe1a19",
   "metadata": {},
   "source": [
    "#### Пошук частки:"
   ]
  },
  {
   "cell_type": "code",
   "execution_count": 29,
   "id": "e147183c",
   "metadata": {},
   "outputs": [
    {
     "name": "stdout",
     "output_type": "stream",
     "text": [
      "1.01 µs ± 19.3 ns per loop (mean ± std. dev. of 7 runs, 1,000,000 loops each)\n"
     ]
    }
   ],
   "source": [
    "%timeit A//B"
   ]
  },
  {
   "cell_type": "code",
   "execution_count": 30,
   "id": "910fa643",
   "metadata": {},
   "outputs": [
    {
     "name": "stdout",
     "output_type": "stream",
     "text": [
      "627 ns ± 48 ns per loop (mean ± std. dev. of 7 runs, 1,000,000 loops each)\n"
     ]
    }
   ],
   "source": [
    "%timeit gmpy2.f_div(A_m, B_m)"
   ]
  },
  {
   "cell_type": "markdown",
   "id": "40298ba7",
   "metadata": {},
   "source": [
    "#### Пошук остачі від ділення: "
   ]
  },
  {
   "cell_type": "code",
   "execution_count": 31,
   "id": "8f8dba51",
   "metadata": {},
   "outputs": [
    {
     "name": "stdout",
     "output_type": "stream",
     "text": [
      "973 ns ± 36.9 ns per loop (mean ± std. dev. of 7 runs, 1,000,000 loops each)\n"
     ]
    }
   ],
   "source": [
    "%timeit A%B"
   ]
  },
  {
   "cell_type": "code",
   "execution_count": 32,
   "id": "34781d87",
   "metadata": {},
   "outputs": [
    {
     "name": "stdout",
     "output_type": "stream",
     "text": [
      "633 ns ± 58.6 ns per loop (mean ± std. dev. of 7 runs, 1,000,000 loops each)\n"
     ]
    }
   ],
   "source": [
    "%timeit gmpy2.f_mod(A_m, B_m)"
   ]
  },
  {
   "cell_type": "code",
   "execution_count": 33,
   "id": "bbda7f25",
   "metadata": {},
   "outputs": [
    {
     "name": "stdout",
     "output_type": "stream",
     "text": [
      "665 ns ± 49.3 ns per loop (mean ± std. dev. of 7 runs, 1,000,000 loops each)\n"
     ]
    }
   ],
   "source": [
    "%timeit gmpy2.f_divmod(A_m, B_m)"
   ]
  },
  {
   "cell_type": "markdown",
   "id": "29f4a23f",
   "metadata": {},
   "source": [
    "Порявняння швдкодії функцій gcd з модуля math і модуля gmpy2:"
   ]
  },
  {
   "cell_type": "code",
   "execution_count": 34,
   "id": "faed46d9",
   "metadata": {},
   "outputs": [
    {
     "name": "stdout",
     "output_type": "stream",
     "text": [
      "56.1 µs ± 146 ns per loop (mean ± std. dev. of 7 runs, 10,000 loops each)\n"
     ]
    }
   ],
   "source": [
    "%timeit math.gcd(A, N)"
   ]
  },
  {
   "cell_type": "code",
   "execution_count": 35,
   "id": "4c9f6561",
   "metadata": {},
   "outputs": [
    {
     "name": "stdout",
     "output_type": "stream",
     "text": [
      "21.8 µs ± 100 ns per loop (mean ± std. dev. of 7 runs, 10,000 loops each)\n"
     ]
    }
   ],
   "source": [
    "%timeit gmpy2.gcd(A_m, N_m)"
   ]
  }
 ],
 "metadata": {
  "kernelspec": {
   "display_name": "Python 3 (ipykernel)",
   "language": "python",
   "name": "python3"
  },
  "language_info": {
   "codemirror_mode": {
    "name": "ipython",
    "version": 3
   },
   "file_extension": ".py",
   "mimetype": "text/x-python",
   "name": "python",
   "nbconvert_exporter": "python",
   "pygments_lexer": "ipython3",
   "version": "3.9.7"
  }
 },
 "nbformat": 4,
 "nbformat_minor": 5
}
