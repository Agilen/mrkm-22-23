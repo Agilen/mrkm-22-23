{
 "cells": [
  {
   "cell_type": "code",
   "execution_count": 24,
   "id": "c017b218",
   "metadata": {},
   "outputs": [],
   "source": [
    "\"\"\"\n",
    "Created on Fri Jan 13 19:01:38 2023\n",
    "\n",
    "@author: ZheZheDoshka\n",
    "\"\"\"\n",
    "\n",
    "import time\n",
    "import Cryptodome as Crypto\n",
    "from Cryptodome.PublicKey import RSA\n",
    "\n",
    "from Cryptodome.PublicKey import DSA\n",
    "\n",
    "\n",
    "\n",
    "\n",
    "\n",
    "import OpenSSL\n",
    "\n",
    "from cryptography.hazmat.primitives import hashes\n",
    "from cryptography.hazmat.primitives.asymmetric import rsa\n",
    "from cryptography.hazmat.primitives.asymmetric import dsa\n",
    "\n",
    "\n",
    "from cryptography.hazmat.primitives.asymmetric import rsa\n",
    "from Cryptodome.Hash import SHA256\n",
    "import hashlib #SHA-3 взят з OpenSSL якщо той наявний\n"
   ]
  },
  {
   "cell_type": "code",
   "execution_count": 3,
   "id": "630d80ee",
   "metadata": {},
   "outputs": [
    {
     "name": "stdout",
     "output_type": "stream",
     "text": [
      "Час генерації 10 RSA ключів:\n"
     ]
    }
   ],
   "source": [
    "print(\"Час генерації 10 RSA ключів:\")"
   ]
  },
  {
   "cell_type": "code",
   "execution_count": 4,
   "id": "3f9407bf",
   "metadata": {},
   "outputs": [
    {
     "name": "stdout",
     "output_type": "stream",
     "text": [
      "--- 15.433996200561523 seconds ---\n"
     ]
    }
   ],
   "source": [
    "\n",
    "start_time = time.time()\n",
    "for i in range(10):\n",
    "    key = RSA.generate(2048)\n",
    "print(\"--- %s seconds ---\" % (time.time() - start_time))"
   ]
  },
  {
   "cell_type": "code",
   "execution_count": 5,
   "id": "dfbe30a4",
   "metadata": {},
   "outputs": [
    {
     "name": "stdout",
     "output_type": "stream",
     "text": [
      "--- 1.585545539855957 seconds ---\n"
     ]
    }
   ],
   "source": [
    "\n",
    "start_time = time.time()\n",
    "for i in range(10):\n",
    "    key = OpenSSL.crypto.PKey()\n",
    "    key.generate_key(OpenSSL.crypto.TYPE_RSA, 2048)\n",
    "    c_key = key.to_cryptography_key()\n",
    "print(\"--- %s seconds ---\" % (time.time() - start_time))\n"
   ]
  },
  {
   "cell_type": "code",
   "execution_count": 27,
   "id": "7bc4ba50",
   "metadata": {},
   "outputs": [
    {
     "name": "stdout",
     "output_type": "stream",
     "text": [
      "--- 1.271998405456543 seconds ---\n"
     ]
    }
   ],
   "source": [
    "start_time = time.time()\n",
    "for i in range(10):\n",
    "    rsa.generate_private_key(\n",
    "        public_exponent=65537,\n",
    "        key_size=2048,\n",
    "    )\n",
    "\n",
    "print(\"--- %s seconds ---\" % (time.time() - start_time))"
   ]
  },
  {
   "cell_type": "code",
   "execution_count": 6,
   "id": "7d2f65a2",
   "metadata": {},
   "outputs": [
    {
     "name": "stdout",
     "output_type": "stream",
     "text": [
      "Час генерації 10 DSA ключів:\n"
     ]
    }
   ],
   "source": [
    "print(\"Час генерації 10 DSA ключів:\")"
   ]
  },
  {
   "cell_type": "code",
   "execution_count": 7,
   "id": "048ba1fb",
   "metadata": {},
   "outputs": [
    {
     "name": "stdout",
     "output_type": "stream",
     "text": [
      "--- 122.414705991745 seconds ---\n"
     ]
    }
   ],
   "source": [
    "\n",
    "start_time = time.time()\n",
    "for i in range(10):\n",
    "    key = DSA.generate(2048)\n",
    "print(\"--- %s seconds ---\" % (time.time() - start_time))\n",
    "\n"
   ]
  },
  {
   "cell_type": "code",
   "execution_count": 8,
   "id": "1bdd640f",
   "metadata": {
    "scrolled": true
   },
   "outputs": [
    {
     "name": "stdout",
     "output_type": "stream",
     "text": [
      "--- 9.873338222503662 seconds ---\n"
     ]
    }
   ],
   "source": [
    "\n",
    "start_time = time.time()\n",
    "for i in range(10):\n",
    "    \n",
    "    key = OpenSSL.crypto.PKey()\n",
    "    key.generate_key(OpenSSL.crypto.TYPE_DSA, 2048)\n",
    "    c_key = key.to_cryptography_key()\n",
    "print(\"--- %s seconds ---\" % (time.time() - start_time))"
   ]
  },
  {
   "cell_type": "code",
   "execution_count": 25,
   "id": "0c779511",
   "metadata": {},
   "outputs": [
    {
     "name": "stdout",
     "output_type": "stream",
     "text": [
      "--- 8.354997396469116 seconds ---\n"
     ]
    }
   ],
   "source": [
    "start_time = time.time()\n",
    "for i in range(10):\n",
    "    dsa.generate_private_key(\n",
    "        key_size=2048,\n",
    "    )\n",
    "\n",
    "print(\"--- %s seconds ---\" % (time.time() - start_time))"
   ]
  },
  {
   "cell_type": "code",
   "execution_count": null,
   "id": "7eaa81c8",
   "metadata": {},
   "outputs": [],
   "source": [
    "print(\"Час 1000 гешувань sha256\")"
   ]
  },
  {
   "cell_type": "code",
   "execution_count": 14,
   "id": "ac3d8cd0",
   "metadata": {},
   "outputs": [
    {
     "name": "stdout",
     "output_type": "stream",
     "text": [
      "--- 0.03909945487976074 seconds ---\n"
     ]
    }
   ],
   "source": [
    "start_time = time.time()\n",
    "for i in range(1000):\n",
    "    SHA256.new(b\"Nobody inspects the spammish repetition\").hexdigest()\n",
    "print(\"--- %s seconds ---\" % (time.time() - start_time))\n",
    "\n",
    "\n"
   ]
  },
  {
   "cell_type": "code",
   "execution_count": 15,
   "id": "34267281",
   "metadata": {},
   "outputs": [
    {
     "name": "stdout",
     "output_type": "stream",
     "text": [
      "--- 0.0029993057250976562 seconds ---\n"
     ]
    }
   ],
   "source": [
    "start_time = time.time()\n",
    "for i in range(1000):\n",
    "    hashlib.sha256(b\"Nobody inspects the spammish repetition\").hexdigest()\n",
    "print(\"--- %s seconds ---\" % (time.time() - start_time))"
   ]
  },
  {
   "cell_type": "code",
   "execution_count": 20,
   "id": "56b0c8db",
   "metadata": {},
   "outputs": [
    {
     "name": "stdout",
     "output_type": "stream",
     "text": [
      "--- 0.0311276912689209 seconds ---\n"
     ]
    }
   ],
   "source": [
    "start_time = time.time()\n",
    "for i in range(1000):\n",
    "    digest = hashes.Hash(hashes.SHA256())\n",
    "    digest.update(b\"Nobody inspects the spammish repetition\")\n",
    "    digest.finalize()\n",
    "print(\"--- %s seconds ---\" % (time.time() - start_time))"
   ]
  },
  {
   "cell_type": "code",
   "execution_count": null,
   "id": "82b11e15",
   "metadata": {},
   "outputs": [],
   "source": []
  }
 ],
 "metadata": {
  "kernelspec": {
   "display_name": "Python 3 (ipykernel)",
   "language": "python",
   "name": "python3"
  },
  "language_info": {
   "codemirror_mode": {
    "name": "ipython",
    "version": 3
   },
   "file_extension": ".py",
   "mimetype": "text/x-python",
   "name": "python",
   "nbconvert_exporter": "python",
   "pygments_lexer": "ipython3",
   "version": "3.9.12"
  }
 },
 "nbformat": 4,
 "nbformat_minor": 5
}
