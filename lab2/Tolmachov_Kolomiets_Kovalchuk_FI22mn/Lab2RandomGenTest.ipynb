{
 "cells": [
  {
   "cell_type": "code",
   "execution_count": 3,
   "id": "e9f76ca2",
   "metadata": {
    "scrolled": true
   },
   "outputs": [
    {
     "name": "stdout",
     "output_type": "stream",
     "text": [
      "Collecting pycryptodomex\n",
      "  Downloading pycryptodomex-3.16.0.tar.gz (4.5 MB)\n",
      "Skipping wheel build for pycryptodomex, due to binaries being disabled for it.\n",
      "Installing collected packages: pycryptodomex\n",
      "    Running setup.py install for pycryptodomex: started\n",
      "    Running setup.py install for pycryptodomex: still running...\n",
      "    Running setup.py install for pycryptodomex: finished with status 'done'\n",
      "Successfully installed pycryptodomex-3.16.0\n",
      "Note: you may need to restart the kernel to use updated packages.\n"
     ]
    }
   ],
   "source": [
    "pip install pycryptodomex --no-binary :all:"
   ]
  },
  {
   "cell_type": "code",
   "execution_count": 2,
   "id": "97acacfc",
   "metadata": {},
   "outputs": [
    {
     "name": "stdout",
     "output_type": "stream",
     "text": [
      "Collecting pycryptodome-test-vectors\n",
      "  Downloading pycryptodome-test-vectors-1.0.11.tar.gz (12.0 MB)\n",
      "Building wheels for collected packages: pycryptodome-test-vectors\n",
      "  Building wheel for pycryptodome-test-vectors (setup.py): started\n",
      "  Building wheel for pycryptodome-test-vectors (setup.py): finished with status 'done'\n",
      "  Created wheel for pycryptodome-test-vectors: filename=pycryptodome_test_vectors-1.0.11-py2.py3-none-any.whl size=12144772 sha256=a2c8a40a2cba75958219966e509754a9972bf1d5f6648b23314401d2273d2e1f\n",
      "  Stored in directory: c:\\users\\user\\appdata\\local\\pip\\cache\\wheels\\7e\\3e\\18\\e05e30d26c1eccdcf60864d9adb7f13c22d7c099ad2a4ec6b3\n",
      "Successfully built pycryptodome-test-vectors\n",
      "Installing collected packages: pycryptodome-test-vectors\n",
      "Successfully installed pycryptodome-test-vectors-1.0.11\n",
      "Note: you may need to restart the kernel to use updated packages.\n"
     ]
    }
   ],
   "source": [
    "pip install pycryptodome-test-vectors"
   ]
  },
  {
   "cell_type": "code",
   "execution_count": 15,
   "id": "b50a1ee2",
   "metadata": {},
   "outputs": [],
   "source": [
    "from Cryptodome.Cipher import AES"
   ]
  },
  {
   "cell_type": "code",
   "execution_count": 104,
   "id": "a7601c40",
   "metadata": {},
   "outputs": [],
   "source": [
    "import numpy as np\n",
    "import math\n",
    "import Cryptodome as Crypto\n",
    "from Cryptodome.PublicKey import RSA\n",
    "from Cryptodome.PublicKey import DSA\n",
    "from Cryptodome.PublicKey import ECC"
   ]
  },
  {
   "cell_type": "code",
   "execution_count": 2,
   "id": "187ffcf9",
   "metadata": {},
   "outputs": [
    {
     "name": "stdout",
     "output_type": "stream",
     "text": [
      "[0, 0, 0]\n",
      "[3644.173114708759, 3398.227234076454, 3268.402429050604]\n"
     ]
    }
   ],
   "source": [
    "r = 12\n",
    "alpha = [ 0.01, 0.05, 0.1 ]\n",
    "quantil = [ 2.327, 1.645 , 1.285 ]\n",
    "Xi_1 = [0]*3\n",
    "Xi_2 = [0]*3\n",
    "Xi_3 = [0]*3\n",
    "print(Xi_1)\n",
    "Xi_1 = [i*np.sqrt(255 * 2) + 255 for i in quantil]\n",
    "\n",
    "Xi_2 = [i*np.sqrt(255 * 255 * 2) + 255*255 for i in quantil]\n",
    "\n",
    "Xi_3 = [i*np.sqrt(255 * 255 * 2) + 255*(r-1) for i in quantil]\n",
    "\n",
    "print(Xi_3)"
   ]
  },
  {
   "cell_type": "code",
   "execution_count": 3,
   "id": "5d4012cd",
   "metadata": {},
   "outputs": [],
   "source": [
    "N = 32\n",
    "Bytes = 524288"
   ]
  },
  {
   "cell_type": "code",
   "execution_count": 4,
   "id": "4408a1d1",
   "metadata": {},
   "outputs": [
    {
     "data": {
      "text/plain": [
       "524288"
      ]
     },
     "execution_count": 4,
     "metadata": {},
     "output_type": "execute_result"
    }
   ],
   "source": [
    "get_random_bytes = bytearray()\n",
    "for i in range(int(Bytes/N)):\n",
    "    get_random_bytes += Crypto.Random.get_random_bytes(N)\n",
    "\n",
    "len(get_random_bytes)"
   ]
  },
  {
   "cell_type": "code",
   "execution_count": 5,
   "id": "c7285dfc",
   "metadata": {
    "scrolled": true
   },
   "outputs": [
    {
     "data": {
      "text/plain": [
       "524288"
      ]
     },
     "execution_count": 5,
     "metadata": {},
     "output_type": "execute_result"
    }
   ],
   "source": [
    "getrandbits = bytearray()\n",
    "for i in range(int(Bytes)):\n",
    "    getrandbits += Crypto.Random.random.getrandbits(8).to_bytes(1, 'big')\n",
    "\n",
    "len(getrandbits)"
   ]
  },
  {
   "cell_type": "code",
   "execution_count": 85,
   "id": "48eef288",
   "metadata": {},
   "outputs": [],
   "source": [
    "n = 2048\n",
    "RSApk = bytearray()\n",
    "for i in range(int(Bytes/(n/8))):\n",
    "    a = Crypto.PublicKey.RSA.generate(n)\n",
    "    RSApk += a.p.to_bytes(128, 'big') + a.q.to_bytes(128, 'big')"
   ]
  },
  {
   "cell_type": "code",
   "execution_count": 86,
   "id": "1324770b",
   "metadata": {},
   "outputs": [
    {
     "data": {
      "text/plain": [
       "524288"
      ]
     },
     "execution_count": 86,
     "metadata": {},
     "output_type": "execute_result"
    }
   ],
   "source": [
    "len(RSApk)"
   ]
  },
  {
   "cell_type": "code",
   "execution_count": 100,
   "id": "730c0799",
   "metadata": {},
   "outputs": [
    {
     "data": {
      "text/plain": [
       "524303"
      ]
     },
     "execution_count": 100,
     "metadata": {},
     "output_type": "execute_result"
    }
   ],
   "source": [
    "ECCpk = bytearray()\n",
    "while (len(ECCpk)<Bytes):\n",
    "    ECCpk += ECC.generate(curve='P-256').d.to_bytes()\n",
    "    \n",
    "len(ECCpk)"
   ]
  },
  {
   "cell_type": "code",
   "execution_count": 107,
   "id": "1fac1965",
   "metadata": {},
   "outputs": [],
   "source": [
    "DSApk = bytearray()\n",
    "while (len(DSApk)<Bytes):\n",
    "    DSApk += DSA.generate(2048).p.to_bytes(256, 'big')\n",
    "    \n",
    "len(DSApk)"
   ]
  },
  {
   "cell_type": "code",
   "execution_count": 108,
   "id": "ab8e4268",
   "metadata": {},
   "outputs": [
    {
     "data": {
      "text/plain": [
       "200960"
      ]
     },
     "execution_count": 108,
     "metadata": {},
     "output_type": "execute_result"
    }
   ],
   "source": [
    "len(DSApk)"
   ]
  },
  {
   "cell_type": "code",
   "execution_count": 7,
   "id": "bb3962a0",
   "metadata": {},
   "outputs": [],
   "source": [
    "def criterion_1(data):\n",
    "    Xi = 0.0\n",
    "    H = [True, True, True]\n",
    "    n = int(len(data)/256)\n",
    "    byte_count = [0]*256\n",
    "    for i in range(256):\n",
    "        byte_count[i] = data.count(i)\n",
    "        Xi += ((byte_count[i] - n)**2 / n)\n",
    "    for i in range(3):\n",
    "        if Xi > Xi_1[i]:\n",
    "            H[i] = False\n",
    "    \n",
    "    return Xi, H"
   ]
  },
  {
   "cell_type": "code",
   "execution_count": 8,
   "id": "3dabd6e0",
   "metadata": {},
   "outputs": [],
   "source": [
    "def criterion_2(data):    \n",
    "    Xi = 0.0\n",
    "    H = [True, True, True]\n",
    "    n = int(len(data)/2)\n",
    "    byte_count = [[0]*256 for i in range(256)]\n",
    "    first = [0]*256\n",
    "    second = [0]*256\n",
    "    for i in range(n):\n",
    "        byte_count[data[2*i]][data[2*i+1]] += 1\n",
    "        first[data[2*i]] += 1\n",
    "        second[data[2*i+1]] += 1\n",
    "        \n",
    "    for i in range(256):\n",
    "        for j in range(256):\n",
    "            Xi += ((byte_count[i][j]**2)/(first[i]*second[j]))\n",
    "    Xi = (Xi-1)*n\n",
    "    for i in range(3):\n",
    "        if Xi > Xi_2[i]:\n",
    "            H[i] = False\n",
    "    \n",
    "    return Xi, H"
   ]
  },
  {
   "cell_type": "code",
   "execution_count": 9,
   "id": "8a979e65",
   "metadata": {},
   "outputs": [],
   "source": [
    "def criterion_3(data):    \n",
    "    Xi = 0.0\n",
    "    H = [True, True, True]\n",
    "    n = int(len(data))\n",
    "    m_ = int((n/r))\n",
    "    n = m_*r\n",
    "    byte_count_r = [[0]*12 for i in range(256)]\n",
    "    byte_count = [0]*256\n",
    "    for j in range(r):\n",
    "        for i in range(m_):\n",
    "            byte_count_r[data[i + j*m_]][j] +=1\n",
    "            byte_count[data[i + j*m_]] += 1\n",
    "    for i in range(256):\n",
    "        for j in range(12):\n",
    "            Xi += ((byte_count_r[i][j]**2)/(byte_count[i]*m_))\n",
    "    Xi = (Xi-1)*n\n",
    "    for i in range(3):\n",
    "        if Xi > Xi_3[i]:\n",
    "            H[i] = False\n",
    "    \n",
    "    return Xi, H\n"
   ]
  },
  {
   "cell_type": "code",
   "execution_count": 10,
   "id": "ce673e8b",
   "metadata": {},
   "outputs": [],
   "source": [
    "#Maurer’s “Universal Statistical” Test\n",
    "#, L, expV, var\n",
    "def criterion_4(data):    \n",
    "    Xi = 0.0\n",
    "    sum_ = 0\n",
    "    H = [True, True, True]\n",
    "    data_bit = \"\"\n",
    "    for i in data:\n",
    "        data_bit += '{0:08b}'.format(i)\n",
    "    n = int(len(data_bit))\n",
    "    Q = 10*(2**L)\n",
    "    T = [0]*(2**L)\n",
    "    for i in range(Q):\n",
    "        T[int(data_bit[i*L: i*L+L],2)] = i\n",
    "    K = int(n/L - Q)\n",
    "    for i in range(K):\n",
    "        sum_ += math.log2(i+Q - T[int(data_bit[Q*L + i*L: Q*L + i*L+L],2)])\n",
    "        T[int(data_bit[Q*L + i*L: Q*L + i*L+L],2)] = i+Q\n",
    "    f_n = sum_/K\n",
    "    c = 0.7 - (0.8/L) + (4 + 32/L)*(pow(K, (-3/L))/15)\n",
    "    gamma = c*math.sqrt(var/K)\n",
    "    P = math.erfc(abs(f_n - expV)/(math.sqrt(2)*gamma))\n",
    "    #1% rule states to check P-value < 0.01 => False\n",
    "    for i in range(3):\n",
    "        if P < alpha[i]:\n",
    "            H[i] = False\n",
    "    return P, H\n",
    "\n",
    "\n",
    "L = 8\n",
    "expV = 7.1836656\n",
    "var = 3.238"
   ]
  },
  {
   "cell_type": "code",
   "execution_count": 21,
   "id": "f55f0567",
   "metadata": {},
   "outputs": [],
   "source": [
    "#Random Excursions Variant Test\n",
    "def criterion_5(data):    \n",
    "    Xi = 0.0\n",
    "    sum_ = 0\n",
    "    H = [True, True, True]\n",
    "    data_bit = \"\"\n",
    "    for i in data:\n",
    "        data_bit += '{0:08b}'.format(i)\n",
    "    n = int(len(data_bit))\n",
    "    xi = [0]*19\n",
    "    S = 0\n",
    "    xi[9] += 1\n",
    "    for i in range(n):\n",
    "        if(data_bit[i] == '1'):\n",
    "            S += 1\n",
    "        else:\n",
    "            S -= 1\n",
    "        if (abs(S)<=9):\n",
    "            xi[S+9] += 1\n",
    "    J = xi[9]\n",
    "    P = [0]*19\n",
    "    \n",
    "    for i in range(19):\n",
    "        if(i != 9):\n",
    "            P[i] = math.erfc(abs(xi[i]-J)/math.sqrt(2*J*(4*abs(i-9)-2)))\n",
    "    #1% rule states to check P-value < 0.01 => False\n",
    "    P.pop(9)\n",
    "    for i in range(3):\n",
    "        for j in range(18):\n",
    "            if P[j] < alpha[i]:\n",
    "                H[i] = False\n",
    "                break\n",
    "    return P, H\n"
   ]
  },
  {
   "cell_type": "code",
   "execution_count": null,
   "id": "4db9cbb8",
   "metadata": {},
   "outputs": [],
   "source": [
    "print(\"Xi for criteria 1: \" Xi_1)\n",
    "print(\"Xi for criteria 2: \" Xi_2)\n",
    "print(\"Xi for criteria 3: \" Xi_3)\n",
    "print(\"alpha: \" alpha)"
   ]
  },
  {
   "cell_type": "code",
   "execution_count": 23,
   "id": "df9279e3",
   "metadata": {
    "scrolled": true
   },
   "outputs": [
    {
     "name": "stdout",
     "output_type": "stream",
     "text": [
      "(231.9208984375, [True, True, True])\n",
      "(64733.273770514585, [True, True, True])\n",
      "(2713.2082519033584, [True, True, True])\n",
      "(0.11150358912339814, [True, True, True])\n",
      "([0.9397309575096909, 0.7292594547341302, 0.6972207829947468, 0.569588085563856, 0.5160423810100728, 0.3864762307712326, 0.32567103678286924, 0.2606338425315887, 0.3577648175618734, 0.9875638831765086, 0.7391579082705373, 0.944426752288836, 0.4264218854129438, 0.5261650033087717, 0.9700088087582979, 0.7457646413634914, 0.702215354184505, 0.5106732390107467], [True, True, True])\n"
     ]
    }
   ],
   "source": [
    "print(criterion_1(get_random_bytes))\n",
    "print(criterion_2(get_random_bytes))\n",
    "print(criterion_3(get_random_bytes))\n",
    "print(criterion_4(get_random_bytes))\n",
    "print(criterion_5(get_random_bytes))"
   ]
  },
  {
   "cell_type": "code",
   "execution_count": 87,
   "id": "793c7192",
   "metadata": {},
   "outputs": [
    {
     "name": "stdout",
     "output_type": "stream",
     "text": [
      "(244.1982421875, [True, True, True])\n",
      "(64698.98133374803, [True, True, True])\n",
      "(2899.372616706713, [True, True, True])\n",
      "(0.36201293506084126, [True, True, True])\n",
      "([0.5918420734686674, 0.7198380560481024, 0.8326671994984294, 0.7355318762955201, 0.8149745964518661, 0.7433286647292777, 0.5930625981066426, 0.36064704767104244, 0.16478920460634883, 0.6326610502373972, 0.9518631313415185, 0.7233073123857566, 0.5956319201472444, 0.6940671765173658, 0.8712014685757845, 0.5959202492164613, 0.4026437860695563, 0.3670210957124318], [True, True, True])\n"
     ]
    }
   ],
   "source": [
    "print(criterion_1(getrandbits))\n",
    "print(criterion_2(getrandbits))\n",
    "print(criterion_3(getrandbits))\n",
    "print(criterion_4(getrandbits))\n",
    "print(criterion_5(getrandbits))"
   ]
  },
  {
   "cell_type": "code",
   "execution_count": 88,
   "id": "2fe79f2d",
   "metadata": {},
   "outputs": [
    {
     "name": "stdout",
     "output_type": "stream",
     "text": [
      "(408.1591796875, [False, False, False])\n",
      "(65215.779879146896, [True, True, True])\n",
      "(2787.129886081236, [True, True, True])\n",
      "(0.11066727041051792, [True, True, True])\n",
      "([0.10927093392001368, 0.10598585916278155, 0.05577945284478564, 0.03495507264363056, 0.027734470235048183, 0.02529232439639864, 0.03770719138706869, 0.14981213516709155, 0.6597890810315775, 0.6955808273182371, 0.21404421720997704, 0.18937309460325985, 0.18932919450771196, 0.17083529853378324, 0.11799977503975212, 0.05753961187264973, 0.059875515962479545, 0.06595420164423037], [True, False, False])\n"
     ]
    }
   ],
   "source": [
    "print(criterion_1(RSApk))\n",
    "print(criterion_2(RSApk))\n",
    "print(criterion_3(RSApk))\n",
    "print(criterion_4(RSApk))\n",
    "print(criterion_5(RSApk))\n"
   ]
  },
  {
   "cell_type": "code",
   "execution_count": 101,
   "id": "7c3b8598",
   "metadata": {},
   "outputs": [
    {
     "name": "stdout",
     "output_type": "stream",
     "text": [
      "(238.53857421875, [True, True, True])\n",
      "(64878.67444660347, [True, True, True])\n",
      "(2851.986795278689, [True, True, True])\n",
      "(0.06229353442169084, [True, True, False])\n",
      "([0.9043132010267174, 0.5664130791782349, 0.4953312122622224, 0.4880392736138859, 0.5431833514113554, 0.8221278693532301, 0.8522892477910072, 0.8907458009320663, 0.634194817329482, 0.08103475417128944, 0.20798030941952225, 0.5764381972359925, 0.9521962019705574, 0.7560957014958838, 0.7559159758919114, 0.9473890666567608, 0.6523621476238477, 0.427535517515224], [True, True, False])\n"
     ]
    }
   ],
   "source": [
    "print(criterion_1(ECCpk))\n",
    "print(criterion_2(ECCpk))\n",
    "print(criterion_3(ECCpk))\n",
    "print(criterion_4(ECCpk))\n",
    "print(criterion_5(ECCpk))\n"
   ]
  },
  {
   "cell_type": "code",
   "execution_count": 109,
   "id": "979773d0",
   "metadata": {},
   "outputs": [
    {
     "name": "stdout",
     "output_type": "stream",
     "text": [
      "(264.0636942675158, [True, True, True])\n",
      "(64817.988896884526, [True, True, True])\n",
      "(2817.9734278418814, [True, True, True])\n",
      "(0.5684911190508302, [True, True, True])\n",
      "([0.2938128087536618, 0.5545805612380654, 0.68903734077464, 0.6635466389640836, 0.7028835190625773, 0.7068509494219011, 0.6563239748867087, 0.4551658905375948, 0.6906192201976447, 0.028590893764117786, 0.04748223864823018, 0.15445188236025, 0.21457149348404794, 0.2594429134031647, 0.24806677651344947, 0.12560788237384796, 0.06072428097795445, 0.042643136577263874], [True, False, False])\n"
     ]
    }
   ],
   "source": [
    "print(criterion_1(DSApk))\n",
    "print(criterion_2(DSApk))\n",
    "print(criterion_3(DSApk))\n",
    "print(criterion_4(DSApk))\n",
    "print(criterion_5(DSApk))"
   ]
  },
  {
   "cell_type": "code",
   "execution_count": null,
   "id": "0411c67f",
   "metadata": {},
   "outputs": [],
   "source": []
  }
 ],
 "metadata": {
  "kernelspec": {
   "display_name": "Python 3 (ipykernel)",
   "language": "python",
   "name": "python3"
  },
  "language_info": {
   "codemirror_mode": {
    "name": "ipython",
    "version": 3
   },
   "file_extension": ".py",
   "mimetype": "text/x-python",
   "name": "python",
   "nbconvert_exporter": "python",
   "pygments_lexer": "ipython3",
   "version": "3.9.12"
  }
 },
 "nbformat": 4,
 "nbformat_minor": 5
}
